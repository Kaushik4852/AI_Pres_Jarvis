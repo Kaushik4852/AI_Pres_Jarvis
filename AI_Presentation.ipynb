{
 "cells": [
  {
   "cell_type": "code",
   "execution_count": null,
   "id": "5a8b3b39",
   "metadata": {},
   "outputs": [],
   "source": [
    "init_config = []\n",
    "game_board = [['','',''],['','',''],['','','']]\n",
    "\n",
    "# def driver(init):\n",
    "    \n",
    "    \n",
    "def game_over(game_board):\n",
    "    #Diagonal values check\n",
    "    if(game_board[0][0] == game_board[1][1] == game_board[2][2] == 'X'):\n",
    "        return 1;\n",
    "    elif(game_board[0][0] == game_board[1][1] == game_board[2][2] == 'O'):\n",
    "        return -1;\n",
    "\n",
    "    for i in range(0,3):\n",
    "        if(game_board[i][0] == game_board[i][1] == game_board[i][2] == 'X'):\n",
    "            return 1;\n",
    "        elif(game_board[i][0] == game_board[i][1] == game_board[i][2] == 'O'):\n",
    "            return -1;\n",
    "\n",
    "    for j in range(0,3):\n",
    "        if(game_board[0][j] == game_board[1][j] == game_board[2][j] == 'X'):\n",
    "            return 1;\n",
    "        elif(game_board[0][j] == game_board[1][j] == game_board[2][j] == 'O'):\n",
    "            return -1;\n",
    "\n",
    "    for i in range(0,3):\n",
    "        for j in range(0,3):\n",
    "            if(game_board[i][j]==''):\n",
    "                break;"
   ]
  }
 ],
 "metadata": {
  "kernelspec": {
   "display_name": "base",
   "language": "python",
   "name": "python3"
  },
  "language_info": {
   "codemirror_mode": {
    "name": "ipython",
    "version": 3
   },
   "file_extension": ".py",
   "mimetype": "text/x-python",
   "name": "python",
   "nbconvert_exporter": "python",
   "pygments_lexer": "ipython3",
   "version": "3.9.13 (main, Aug 25 2022, 23:26:10) \n[GCC 11.2.0]"
  },
  "vscode": {
   "interpreter": {
    "hash": "586ad1ed5c97141e2437e681efbf1ec0adcd17d830cf5af2ca3d2819e743e158"
   }
  }
 },
 "nbformat": 4,
 "nbformat_minor": 5
}
